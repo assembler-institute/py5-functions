{
 "cells": [
  {
   "cell_type": "markdown",
   "id": "5bc8653a",
   "metadata": {},
   "source": [
    "# Functions Task Sheet"
   ]
  },
  {
   "cell_type": "markdown",
   "id": "0af3fdc4",
   "metadata": {},
   "source": [
    "<img width=80 src=\"https://media.giphy.com/media/KAq5w47R9rmTuvWOWa/giphy.gif\">\n",
    "\n",
    "<img width=150 src=\"Images/Assembler.png\">"
   ]
  },
  {
   "cell_type": "markdown",
   "id": "4ffc34e1",
   "metadata": {},
   "source": [
    "# Important:\n",
    "\n",
    "- Comment your code explaining what each part does when you consider it.\n",
    "- We are asking about two types of problems. The first type are solved with code cells, and the second with markdown type cells (where the solution must be thought without executing code cells). This will be indicated in each problem.\n",
    "- Always respect the format of the solution and the instructions!"
   ]
  },
  {
   "cell_type": "markdown",
   "id": "66d84f30",
   "metadata": {},
   "source": [
    "# Recommendations:\n",
    "\n",
    "- There are as many ways to solve a problem as there are people in the world. Find yours!\n",
    "- Create as many variables as you want. They cost nothing and are worth it for the sake of clarity.\n",
    "- You can add cells if needed. \n",
    "- Remember that there are two types of cells: code and markdown. Use both. Explanations never hurt.\n",
    "- There are several ways to approach the same problem. Try not to repeat your way of thinking.\n",
    "- If different syntaxes lead to the same result, explore them.\n",
    "- Use internet in a smart way. Don't look at how to solve the problem in its entirety; it is better to learn methods that lead your logical reasoning to the solution.\n",
    "- Once you have a plan to address the problem, try breaking your code into manageable chunks.\n",
    "- Use `print()` and `type()` functions in the middle of your code to understand what your code is actually doing."
   ]
  },
  {
   "cell_type": "markdown",
   "id": "9e2e1a98",
   "metadata": {},
   "source": [
    "***"
   ]
  },
  {
   "cell_type": "markdown",
   "id": "87ab9ed5",
   "metadata": {},
   "source": [
    "## Warm up with a lecture\n",
    "\n",
    "- [Python Keywords and Identifiers](https://www.programiz.com/python-programming/keywords-identifier)"
   ]
  },
  {
   "cell_type": "markdown",
   "id": "15c7840a",
   "metadata": {},
   "source": [
    "## Equality function\n",
    "\n",
    "Define the function `equality(n1,n2)` that takes two numbers and returns `True` if they are equal or `False` otherwise."
   ]
  },
  {
   "cell_type": "code",
   "execution_count": null,
   "id": "c34c4993",
   "metadata": {},
   "outputs": [],
   "source": [
    "# Type the code here:\n",
    "\n"
   ]
  },
  {
   "cell_type": "markdown",
   "id": "6371ce65",
   "metadata": {},
   "source": [
    "## Scream loud and repetitively function\n",
    "\n",
    "Create a function that receives a string and an integer, and prints that string in uppercase and with two exclamation marks at the end, as many times as the entered number indicates."
   ]
  },
  {
   "cell_type": "code",
   "execution_count": null,
   "id": "d7085038",
   "metadata": {},
   "outputs": [],
   "source": [
    "# Type the code here:\n",
    "\n"
   ]
  },
  {
   "cell_type": "markdown",
   "id": "765aa649",
   "metadata": {},
   "source": [
    "## Selecting specific entries from a list\n",
    "\n",
    "Do you remember the list of countries that we have used in the '*4.2-Lists_tasks*' notebook? (Problem **7 Countries**)\n",
    "\n",
    "Create a function that selects only countries that start with a specified letter. The program must be case insensitive.\n",
    "\n",
    "If this letter is not given to the function, it should automatically return countries that start with 'A'.\n",
    "\n",
    "The output of the function should be a new list containing the original list, but with a tuple at the beginning of the new list made up of all the countries that start with the chosen letter.\n",
    "\n",
    "**Look at this!** &nbsp;&nbsp; &rarr; &nbsp;&nbsp;  [Use Unpacking to Insert an Element Into the Beginning of a List](https://www.delftstack.com/howto/python/python-insert-into-list/#use-unpacking-to-insert-an-element-into-the-beginning-of-a-list)\n",
    "\n",
    "Do you dare to implement the unpacking operation to add the tuple at the beginning of the new list?"
   ]
  },
  {
   "cell_type": "code",
   "execution_count": null,
   "id": "f46cc5c5",
   "metadata": {},
   "outputs": [],
   "source": [
    "# Type the code here:\n",
    "\n"
   ]
  },
  {
   "cell_type": "markdown",
   "id": "a0f13a95",
   "metadata": {},
   "source": [
    "## Which number is bigger?\n",
    "\n",
    "Make a function that takes two numbers and prints the higher one (consider the case where they are equal).\n",
    "\n",
    "Create a full Docstring for your function. Here is some documentation on [docstrings](https://www.programiz.com/python-programming/docstrings)."
   ]
  },
  {
   "cell_type": "code",
   "execution_count": null,
   "id": "737ca560",
   "metadata": {},
   "outputs": [],
   "source": [
    "# Type the code here:\n",
    "\n"
   ]
  },
  {
   "cell_type": "markdown",
   "id": "b1540284",
   "metadata": {},
   "source": [
    "The following cell accesses the docstring of your function:"
   ]
  },
  {
   "cell_type": "code",
   "execution_count": null,
   "id": "f80687ab",
   "metadata": {},
   "outputs": [],
   "source": [
    "print(highest_number.__doc__)"
   ]
  },
  {
   "cell_type": "markdown",
   "id": "70210a84",
   "metadata": {},
   "source": [
    "##  Define a function that adds a variable number of numbers, but only if they are odd.\n",
    "\n",
    "Develop a function that receives any N integers and returns the sum only of those that are odd."
   ]
  },
  {
   "cell_type": "code",
   "execution_count": null,
   "id": "c6288b7e",
   "metadata": {},
   "outputs": [],
   "source": [
    "# Type the code here:\n",
    "\n"
   ]
  },
  {
   "cell_type": "markdown",
   "id": "563974ae",
   "metadata": {},
   "source": [
    "## Total amount of seconds\n",
    "\n",
    "**a.** Suppose you are performing an experiment whose time is measured by means of a stopwatch. The format of the recorded time is given in minutes and seconds; e.g. the first measurement records a time of '07:37'. You want to compare the total number of seconds each time the experiment runs. For this case, the function should return '457'. Create an algorithm that performs that task so you can skip the calculations by hand and just drink coffee.\n",
    "\n",
    "**b.** Suppose the experiment has two or more parts that are measured separately. How would you get the total time of two or more runs of the experiment? Define a function that can take an arbitrary number of time measurements (in the form `minutes:seconds`) and return their sum (in seconds)."
   ]
  },
  {
   "cell_type": "code",
   "execution_count": null,
   "id": "08617543",
   "metadata": {},
   "outputs": [],
   "source": [
    "# Type the code here:\n",
    "\n"
   ]
  },
  {
   "cell_type": "markdown",
   "id": "963a13f0",
   "metadata": {},
   "source": [
    "## Project Euler\n",
    "\n",
    "If we list all the natural numbers below 10 that are multiples of 3 or 5, we get 3, 5, 6 and 9. The sum of these multiples is 23.\n",
    "\n",
    "Create a program that requests an integer as input. With that number it executes a function that calculates all the multiples of that number, and prints a tuple with the chosen number, all the multiples and their sum.\n",
    "\n",
    "**\n",
    "\n",
    "**Check:** If you enter the number 1000, you must obtain as the sum of their multiples 233168."
   ]
  },
  {
   "cell_type": "code",
   "execution_count": null,
   "id": "c44d3b3e",
   "metadata": {},
   "outputs": [],
   "source": [
    "# Type the code here:\n",
    "\n"
   ]
  },
  {
   "cell_type": "markdown",
   "id": "922bbc2d",
   "metadata": {},
   "source": [
    "## Sort a list in a certain manner\n",
    "\n",
    "Build a function that sorts the list below based on how close or far the elements are from 100:"
   ]
  },
  {
   "cell_type": "code",
   "execution_count": null,
   "id": "ac2379cd",
   "metadata": {},
   "outputs": [],
   "source": [
    "list_of_numbers = [102,100, 50, 65, 82, 23, 0, 198, 290, -34, 1, -1]"
   ]
  },
  {
   "cell_type": "code",
   "execution_count": null,
   "id": "1453d36a",
   "metadata": {},
   "outputs": [],
   "source": [
    "# Type the code here:\n",
    "\n"
   ]
  },
  {
   "cell_type": "markdown",
   "id": "7ba4e904",
   "metadata": {},
   "source": [
    "## Excess of freedom\n",
    "\n",
    "I dare you to find (or invent, whichever you think is faster!) a function that takes other functions as arguments. The program is executed by calling the main function by means of arguments within which one of them calls one or more external functions and thus performs some task of your choosing.\n",
    "\n",
    "**Hint:** Ask yourself the following: why is it useful for a function to call another function via one of its arguments?"
   ]
  },
  {
   "cell_type": "code",
   "execution_count": null,
   "id": "3e506e33",
   "metadata": {},
   "outputs": [],
   "source": [
    "# Type the code here:\n",
    "\n"
   ]
  }
 ],
 "metadata": {
  "kernelspec": {
   "display_name": "Python 3 (ipykernel)",
   "language": "python",
   "name": "python3"
  },
  "language_info": {
   "codemirror_mode": {
    "name": "ipython",
    "version": 3
   },
   "file_extension": ".py",
   "mimetype": "text/x-python",
   "name": "python",
   "nbconvert_exporter": "python",
   "pygments_lexer": "ipython3",
   "version": "3.9.12"
  },
  "toc": {
   "base_numbering": 1,
   "nav_menu": {},
   "number_sections": true,
   "sideBar": true,
   "skip_h1_title": true,
   "title_cell": "Table of Contents",
   "title_sidebar": "Contents",
   "toc_cell": false,
   "toc_position": {
    "height": "calc(100% - 180px)",
    "left": "10px",
    "top": "150px",
    "width": "203.097px"
   },
   "toc_section_display": true,
   "toc_window_display": true
  }
 },
 "nbformat": 4,
 "nbformat_minor": 5
}
