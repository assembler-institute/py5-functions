{
 "cells": [
  {
   "cell_type": "markdown",
   "id": "5bc8653a",
   "metadata": {},
   "source": [
    "# Lambda Functions Task Sheet (solutions)"
   ]
  },
  {
   "cell_type": "markdown",
   "id": "fd070359",
   "metadata": {},
   "source": [
    "<img width=80 src=\"https://media.giphy.com/media/KAq5w47R9rmTuvWOWa/giphy.gif\">\n",
    "\n",
    "<img width=150 src=\"Images/Assembler.png\">"
   ]
  },
  {
   "cell_type": "markdown",
   "id": "1cf8e8de",
   "metadata": {},
   "source": [
    "# Important:\n",
    "\n",
    "- Comment your code explaining what each part does when you consider it.\n",
    "- We are asking about two types of problems. The first type are solved with code cells, and the second with markdown type cells (where the solution must be thought without executing code cells). This will be indicated in each problem.\n",
    "- Always respect the format of the solution and the instructions!"
   ]
  },
  {
   "cell_type": "markdown",
   "id": "ffd4f762",
   "metadata": {},
   "source": [
    "# Recommendations:\n",
    "\n",
    "- There are as many ways to solve a problem as there are people in the world. Find yours!\n",
    "- Create as many variables as you want. They cost nothing and are worth it for the sake of clarity.\n",
    "- You can add cells if needed. \n",
    "- Remember that there are two types of cells: code and markdown. Use both. Explanations never hurt.\n",
    "- There are several ways to approach the same problem. Try not to repeat your way of thinking.\n",
    "- If different syntaxes lead to the same result, explore them.\n",
    "- Use internet in a smart way. Don't look at how to solve the problem in its entirety; it is better to learn methods that lead your logical reasoning to the solution.\n",
    "- Once you have a plan to address the problem, try breaking your code into manageable chunks.\n",
    "- Use `print()` and `type()` functions in the middle of your code to understand what your code is actually doing."
   ]
  },
  {
   "cell_type": "markdown",
   "id": "ec2802b1",
   "metadata": {},
   "source": [
    "***"
   ]
  },
  {
   "cell_type": "markdown",
   "id": "c072071b",
   "metadata": {},
   "source": [
    "## Lambda function to concatenate words\n",
    "\n",
    "Define a lambda function that receives 3 string parameters and returns them concatenated when called.\n",
    "\n",
    "Does this code work for other types of objects besides strings?"
   ]
  },
  {
   "cell_type": "code",
   "execution_count": 27,
   "id": "2d8c06cb",
   "metadata": {},
   "outputs": [],
   "source": [
    "# Type the code here:\n",
    "group_strings = lambda x, y, z : x + y + z"
   ]
  },
  {
   "cell_type": "code",
   "execution_count": 28,
   "id": "56ff07b9",
   "metadata": {},
   "outputs": [
    {
     "data": {
      "text/plain": [
       "'Hello! Good morning!'"
      ]
     },
     "execution_count": 28,
     "metadata": {},
     "output_type": "execute_result"
    }
   ],
   "source": [
    "group_strings('Hello!', ' Good', ' morning!')"
   ]
  },
  {
   "cell_type": "code",
   "execution_count": 29,
   "id": "f0052500",
   "metadata": {},
   "outputs": [
    {
     "data": {
      "text/plain": [
       "6"
      ]
     },
     "execution_count": 29,
     "metadata": {},
     "output_type": "execute_result"
    }
   ],
   "source": [
    "group_strings(1,2,3)"
   ]
  },
  {
   "cell_type": "markdown",
   "id": "3d15d340",
   "metadata": {},
   "source": [
    "## Which one is bigger (again, but with a lambda function)?\n",
    "\n",
    "Redo the problem **4 Which number is bigger**, from the '*6.2-Functions_tasks*' notebook, but using a lambda function.\n",
    "\n",
    "If it's not clear to you, leave out the equality condition first, and then try adding it."
   ]
  },
  {
   "cell_type": "code",
   "execution_count": 42,
   "id": "c9515a7e",
   "metadata": {},
   "outputs": [],
   "source": [
    "# Type the code here:\n",
    "highest_number1 = lambda a, b : a if(a > b) else b"
   ]
  },
  {
   "cell_type": "code",
   "execution_count": 43,
   "id": "38ee147a",
   "metadata": {},
   "outputs": [],
   "source": [
    "highest_number2 = lambda a,b: a if a > b else (b if a < b else print('Both numbers are the same'))"
   ]
  },
  {
   "cell_type": "code",
   "execution_count": 44,
   "id": "7240306f",
   "metadata": {},
   "outputs": [
    {
     "name": "stdout",
     "output_type": "stream",
     "text": [
      "3 7 2\n"
     ]
    }
   ],
   "source": [
    "print(highest_number1(2,3),\n",
    "      highest_number1(7,3),\n",
    "      highest_number1(2,2))"
   ]
  },
  {
   "cell_type": "code",
   "execution_count": 52,
   "id": "6da3d16f",
   "metadata": {},
   "outputs": [
    {
     "name": "stdout",
     "output_type": "stream",
     "text": [
      "3 7\n"
     ]
    }
   ],
   "source": [
    "print(highest_number2(2,3), highest_number2(7,3))"
   ]
  },
  {
   "cell_type": "code",
   "execution_count": 53,
   "id": "2a848eb9",
   "metadata": {},
   "outputs": [
    {
     "name": "stdout",
     "output_type": "stream",
     "text": [
      "Both numbers are the same\n"
     ]
    }
   ],
   "source": [
    "highest_number2(2,2)"
   ]
  },
  {
   "cell_type": "markdown",
   "id": "12226b6b",
   "metadata": {},
   "source": [
    "## Areas of triangles\n",
    "\n",
    "Apply a lambda function to several objects: create a list with 3 tuples each with 2 elements corresponding to the base and height of a triangle. Choose the numbers you prefer. Write a lambda function that calculates the area of the 3 triangles that represent each tuple."
   ]
  },
  {
   "cell_type": "code",
   "execution_count": 1,
   "id": "f98a4e42",
   "metadata": {},
   "outputs": [],
   "source": [
    "# Type the code here:\n",
    "list_of_tuples = [(5,10),(8,7),(10,20)]"
   ]
  },
  {
   "cell_type": "code",
   "execution_count": 2,
   "id": "ba4a6008",
   "metadata": {},
   "outputs": [],
   "source": [
    "area_triangle = lambda b, h : b * h /2"
   ]
  },
  {
   "cell_type": "code",
   "execution_count": 3,
   "id": "1b908dcc",
   "metadata": {},
   "outputs": [
    {
     "name": "stdout",
     "output_type": "stream",
     "text": [
      "Triangle 1 has an area of 25.0\n",
      "Triangle 2 has an area of 28.0\n",
      "Triangle 3 has an area of 100.0\n"
     ]
    }
   ],
   "source": [
    "count = 0\n",
    "for triangle in list_of_tuples:\n",
    "    count +=1\n",
    "    print(f'Triangle {count} has an area of', area_triangle(triangle[0],triangle[1]))"
   ]
  },
  {
   "cell_type": "markdown",
   "id": "e2e55f89",
   "metadata": {},
   "source": [
    "## Some weird codes\n",
    "\n",
    "The use of cells is not allowed. Discuss what each case returns. Try to figure it out on your own! "
   ]
  },
  {
   "cell_type": "markdown",
   "id": "08609103",
   "metadata": {},
   "source": [
    "### **Case 1)** \n",
    "\n",
    "`def make_incrementor(n): return lambda x : x + n`\n",
    "\n",
    "`f = make_incrementor(5)`\n",
    "\n",
    "`g = make_incrementor(10)`\n",
    "\n",
    "`f(13)`\n",
    "\n",
    "`g(13)`"
   ]
  },
  {
   "cell_type": "markdown",
   "id": "deba43e2",
   "metadata": {},
   "source": [
    "**Answer in this markdown cell:**\n",
    "\n",
    "\n",
    "\n",
    "\n",
    "\n",
    "."
   ]
  },
  {
   "cell_type": "code",
   "execution_count": 92,
   "id": "612dd63c",
   "metadata": {},
   "outputs": [
    {
     "name": "stdout",
     "output_type": "stream",
     "text": [
      "18\n",
      "23\n"
     ]
    }
   ],
   "source": [
    "def make_incrementor(n): return lambda x : x + n\n",
    "\n",
    "f = make_incrementor(5)\n",
    "\n",
    "g = make_incrementor(10)\n",
    "\n",
    "print(f(13))\n",
    "\n",
    "print(g(13))"
   ]
  },
  {
   "cell_type": "markdown",
   "id": "7b4983d5",
   "metadata": {},
   "source": [
    "### **Case 2)** \n",
    "\n",
    "`h = lambda x, y, z=1 : (x + y) * z`\n",
    "\n",
    "`h(5,6)`\n",
    "\n",
    "`h(5,6,7)`"
   ]
  },
  {
   "cell_type": "markdown",
   "id": "bd354ad8",
   "metadata": {},
   "source": [
    "**Answer in this markdown cell:**\n",
    "\n",
    "\n",
    "\n",
    "\n",
    "\n",
    "."
   ]
  },
  {
   "cell_type": "code",
   "execution_count": 91,
   "id": "1e15b88c",
   "metadata": {},
   "outputs": [
    {
     "name": "stdout",
     "output_type": "stream",
     "text": [
      "11\n",
      "77\n"
     ]
    }
   ],
   "source": [
    "h = lambda x, y, z=1 : (x + y) * z\n",
    "\n",
    "print(h(5,6))\n",
    "\n",
    "print(h(5,6,7))"
   ]
  },
  {
   "cell_type": "markdown",
   "id": "3617e7ec",
   "metadata": {},
   "source": [
    "### **Case 3)**\n",
    "\n",
    "`def writer():`\\\n",
    "&emsp;&emsp; `title = 'Sir'`\\\n",
    "&emsp;&emsp; `name = (lambda x:title + ' ' + x)`\\\n",
    "&emsp;&emsp; `return name`\n",
    "\n",
    "`who = writer()`\n",
    "\n",
    "`who('Arthur Ignatius Conan Doyle')`"
   ]
  },
  {
   "cell_type": "markdown",
   "id": "441a97b7",
   "metadata": {},
   "source": [
    "**Answer in this markdown cell:**\n",
    "\n",
    "\n",
    "\n",
    "\n",
    "\n",
    "."
   ]
  },
  {
   "cell_type": "code",
   "execution_count": 96,
   "id": "e8d1c883",
   "metadata": {},
   "outputs": [
    {
     "data": {
      "text/plain": [
       "'Sir Arthur Ignatius Conan Doyle'"
      ]
     },
     "execution_count": 96,
     "metadata": {},
     "output_type": "execute_result"
    }
   ],
   "source": [
    "def writer(): \n",
    "    title = 'Sir'\n",
    "    name = (lambda x:title + ' ' + x) \n",
    "    return name\n",
    "\n",
    "who = writer()\n",
    "\n",
    "who('Arthur Ignatius Conan Doyle')"
   ]
  },
  {
   "cell_type": "markdown",
   "id": "6d3e98fc",
   "metadata": {},
   "source": [
    "## Square roots\n",
    "\n",
    "Do you remember the [math modeule](https://docs.python.org/3/library/math.html)?\n",
    "\n",
    "a. Create a list with the first 20 successive numbers starting from 1.\n",
    "\n",
    "b. Use a lambda function to compute the square root of every element in the list. Results should be rounded to 3 decimal places. If you are able, use a compehension syntax."
   ]
  },
  {
   "cell_type": "code",
   "execution_count": 2,
   "id": "181ea103",
   "metadata": {},
   "outputs": [
    {
     "name": "stdout",
     "output_type": "stream",
     "text": [
      "[1, 2, 3, 4, 5, 6, 7, 8, 9, 10, 11, 12, 13, 14, 15, 16, 17, 18, 19, 20]\n"
     ]
    }
   ],
   "source": [
    "# Type the code here:\n",
    "import math\n",
    "\n",
    "n=1\n",
    "succesive_num = []\n",
    "while n <= 20:\n",
    "    succesive_num.append(n)\n",
    "    n += 1\n",
    "print(succesive_num)"
   ]
  },
  {
   "cell_type": "markdown",
   "id": "d3a55e91",
   "metadata": {},
   "source": [
    "We have different manner for solving this:"
   ]
  },
  {
   "cell_type": "code",
   "execution_count": 3,
   "id": "e6f09b1e",
   "metadata": {},
   "outputs": [
    {
     "name": "stdout",
     "output_type": "stream",
     "text": [
      "[1.0, 1.414, 1.732, 2.0, 2.236, 2.449, 2.646, 2.828, 3.0, 3.162, 3.317, 3.464, 3.606, 3.742, 3.873, 4.0, 4.123, 4.243, 4.359, 4.472]\n"
     ]
    }
   ],
   "source": [
    "print([(lambda x: round(math.sqrt(x),3))(x) for x in succesive_num])"
   ]
  },
  {
   "cell_type": "markdown",
   "id": "14168e80",
   "metadata": {},
   "source": [
    "A syntax we are more used to:"
   ]
  },
  {
   "cell_type": "code",
   "execution_count": 4,
   "id": "c67d4441",
   "metadata": {},
   "outputs": [
    {
     "name": "stdout",
     "output_type": "stream",
     "text": [
      "[1.0, 1.414, 1.732, 2.0, 2.236, 2.449, 2.646, 2.828, 3.0, 3.162, 3.317, 3.464, 3.606, 3.742, 3.873, 4.0, 4.123, 4.243, 4.359, 4.472]\n"
     ]
    }
   ],
   "source": [
    "sqrt_list = []\n",
    "for i in succesive_num:\n",
    "    sqrt_list.append((lambda x : round(math.sqrt(x),3))(i))\n",
    "\n",
    "print(sqrt_list)"
   ]
  },
  {
   "cell_type": "markdown",
   "id": "bd29e8d3",
   "metadata": {},
   "source": [
    "Remember that we are practicing and we don't actually need a lambda function at all. \n",
    "\n",
    "**Check it:**"
   ]
  },
  {
   "cell_type": "code",
   "execution_count": 5,
   "id": "acc87c60",
   "metadata": {},
   "outputs": [
    {
     "name": "stdout",
     "output_type": "stream",
     "text": [
      "[1.0, 1.414, 1.732, 2.0, 2.236, 2.449, 2.646, 2.828, 3.0, 3.162, 3.317, 3.464, 3.606, 3.742, 3.873, 4.0, 4.123, 4.243, 4.359, 4.472]\n"
     ]
    }
   ],
   "source": [
    "print( [round(math.sqrt(x),3) for x in succesive_num] )"
   ]
  }
 ],
 "metadata": {
  "kernelspec": {
   "display_name": "Python 3 (ipykernel)",
   "language": "python",
   "name": "python3"
  },
  "language_info": {
   "codemirror_mode": {
    "name": "ipython",
    "version": 3
   },
   "file_extension": ".py",
   "mimetype": "text/x-python",
   "name": "python",
   "nbconvert_exporter": "python",
   "pygments_lexer": "ipython3",
   "version": "3.9.12"
  },
  "toc": {
   "base_numbering": 1,
   "nav_menu": {},
   "number_sections": true,
   "sideBar": true,
   "skip_h1_title": true,
   "title_cell": "Table of Contents",
   "title_sidebar": "Contents",
   "toc_cell": false,
   "toc_position": {
    "height": "calc(100% - 180px)",
    "left": "10px",
    "top": "150px",
    "width": "203.108px"
   },
   "toc_section_display": true,
   "toc_window_display": true
  }
 },
 "nbformat": 4,
 "nbformat_minor": 5
}
