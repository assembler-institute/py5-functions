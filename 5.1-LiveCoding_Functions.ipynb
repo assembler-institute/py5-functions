{
 "cells": [
  {
   "cell_type": "markdown",
   "id": "d4d62e2e",
   "metadata": {},
   "source": [
    "# Webinar: Python Functions\n",
    "\n",
    "by [Luciano Gabbanelli](https://www.linkedin.com/in/luciano-gabbanelli-ph-d-75302218)"
   ]
  },
  {
   "cell_type": "markdown",
   "id": "7cafcad5",
   "metadata": {},
   "source": [
    "<img width=80 src=\"https://media.giphy.com/media/KAq5w47R9rmTuvWOWa/giphy.gif\">\n",
    "\n",
    "<img width=150 src=\"Images/Assembler.png\">\n",
    "\n",
    "***"
   ]
  },
  {
   "cell_type": "markdown",
   "id": "d03c0efb",
   "metadata": {},
   "source": [
    "## Built–in functions"
   ]
  },
  {
   "cell_type": "markdown",
   "id": "e86c455d",
   "metadata": {},
   "source": [
    "The Python built-in functions are defined as the functions whose functionality is pre-defined in Python. The python interpreter has several functions that are always present for use.\n",
    "\n",
    "A function is a set of statements that take inputs, usually applied to objects, do some specific computation and returns an output. This can be thought of as a transformation on the object that the function receives.\n",
    "\n",
    "Here you have the documentation of [Python built-in functions](https://docs.python.org/3/library/functions.html).\n",
    "\n",
    "**We have already seen some functions:** `print()`, `len()`, `abs()`, etc."
   ]
  },
  {
   "cell_type": "code",
   "execution_count": null,
   "id": "cdfc82b8",
   "metadata": {},
   "outputs": [],
   "source": [
    "# Try some code here:\n",
    "\n"
   ]
  },
  {
   "cell_type": "markdown",
   "id": "029d213f",
   "metadata": {},
   "source": [
    "**Libraries contain a lot of functions:**"
   ]
  },
  {
   "cell_type": "code",
   "execution_count": null,
   "id": "4c5c3710",
   "metadata": {},
   "outputs": [],
   "source": [
    "# Try some code here:\n",
    "\n"
   ]
  },
  {
   "cell_type": "markdown",
   "id": "039b51f4",
   "metadata": {},
   "source": [
    "### User–defined functions"
   ]
  },
  {
   "cell_type": "markdown",
   "id": "ec053b3c",
   "metadata": {},
   "source": [
    "A function is a group of related statements that performs a specific task. Functions help break our program into smaller and modular chunks. As our program grows larger and larger, functions make it more organized and manageable.\n",
    "\n",
    "**Reusability is the main motivation for creating functions. It avoids repetition.**\n",
    "\n",
    "A function is defined using the `def` keyword. `def` marks the start of the function header.\n",
    "\n",
    "\n",
    "> **Syntax:**\n",
    "> ```\n",
    "> def function_name(parameter1, parameter2, ...):\n",
    ">\n",
    ">    '''docstring'''\n",
    ">\n",
    ">    code / statement(s)\n",
    ">   \n",
    ">    return something\n",
    ">```\n",
    ">\n",
    "> `parameters`: are the arguments through which we pass values to a function. They are optional.\n",
    ">\n",
    "> `code`: an indented block of statements.\n",
    "\n",
    "\n",
    "**Execute a function:** once we have defined a function, we can call it from another function, program, or even from the Python prompt. To call a function, we simply write the function name with the appropriate parameters.\n",
    "\n",
    "*IMPORTANT: the function definition must always be present before the function call; otherwise we will get an error.*\n",
    "\n",
    "`function_name(argument1, argument2, ...)`\n",
    "\n",
    "<br>\n",
    "\n",
    "\n",
    "**How does a function work?**\n",
    "\n",
    "<img width=\"250\" src=\"Images/functions.png\">"
   ]
  },
  {
   "cell_type": "markdown",
   "id": "8f00e2f2",
   "metadata": {},
   "source": [
    "- Define a function to welcome students:"
   ]
  },
  {
   "cell_type": "code",
   "execution_count": null,
   "id": "26505792",
   "metadata": {},
   "outputs": [],
   "source": [
    "# Type the function code here:\n",
    "\n"
   ]
  },
  {
   "cell_type": "code",
   "execution_count": null,
   "id": "82eb1fee",
   "metadata": {},
   "outputs": [],
   "source": [
    "# Defining a function does nothing; you need to call it!\n",
    "# And this must be done after defining it.\n",
    "# Type the code here:\n",
    "\n"
   ]
  },
  {
   "cell_type": "markdown",
   "id": "8699f49a",
   "metadata": {},
   "source": [
    "### Description of the constituents of a function\n",
    "\n",
    "**Arguments:** information can be passed into functions as arguments. Arguments are specified after the function name, inside the parentheses. You can add as many arguments as you want, just separate them with a comma, but they are optional.\n",
    "\n",
    "In fact, there is a difference between parameter and argument, if we are strict. From a function’s perspective:\n",
    "- A parameter is the variable listed inside the parentheses in the function definition;\n",
    "- while an argument is the value that is sent to the function when it is called. Arguments are the values assigned to parameters.\n",
    "\n",
    "Does it make any sense?\n",
    "\n",
    "<br>\n",
    "\n",
    "**Number of Arguments:** by default, a function must be called with the correct number of arguments. Meaning that if your function expects 2 arguments, you have to call the function with 2 arguments, not more, and not less. If you try to call the function with 1 or 3 arguments, you will get an error.\n",
    "\n",
    "You can define a function that is called by a variable number of arguments. We will see this in the near future.\n",
    "\n",
    "<br>\n",
    "\n",
    "**Docstring:** is an optional documentation string that describes what the function does.\n",
    "\n",
    "<br>\n",
    "\n",
    "**Statement(s):** one or more statements that make up the body of the function. Statements must be indented the same (usually 1 tab equals 4 spaces). One statement in particular is the `return` statement, which end the execution of the function call and “returns” the result to the caller (statements after `return` will not be executed). As a result, the function can be used in subsequent processes.\n",
    "\n",
    "<br>\n",
    "\n",
    "\n",
    "**Store the output of a function in a variable:**\n",
    "`result = function_name(argument1, argument2, ...)`\n",
    " \n",
    "You can return any object that is available in Python. If the `return` statement has no expression, the special value `None` is returned.\n",
    "\n",
    "<br>\n",
    "\n",
    "- Built a function that tell you whether a number is even or odd."
   ]
  },
  {
   "cell_type": "code",
   "execution_count": null,
   "id": "1aa51f5a",
   "metadata": {},
   "outputs": [],
   "source": [
    "# Check the docstring for this built-in function to build a docstring for our own.\n",
    "abs()"
   ]
  },
  {
   "cell_type": "code",
   "execution_count": null,
   "id": "2abc7b0e",
   "metadata": {},
   "outputs": [],
   "source": [
    "# Type the code here:\n",
    "\n"
   ]
  },
  {
   "cell_type": "markdown",
   "id": "0efacc82",
   "metadata": {},
   "source": [
    "## Functions with two arguments (or more) and default arguments\n",
    "\n",
    "A default argument is a parameter that takes a default value if no value is provided in the function call for that argument.\n",
    "\n",
    "Default arguments are defined asigning a value to the parameter(s).\n",
    "\n",
    "**Important:** default arguments must come after non-default arguments."
   ]
  },
  {
   "cell_type": "markdown",
   "id": "60f03fdb",
   "metadata": {},
   "source": [
    "- Suppose we want a function that takes two numbers, say x and y and computes $x^y$, being x the base and y the exponent. If no exponent is introduced, the function calculates the square of the only argument entered."
   ]
  },
  {
   "cell_type": "code",
   "execution_count": null,
   "id": "481f6571",
   "metadata": {},
   "outputs": [],
   "source": [
    "# Type the code here:\n",
    "\n"
   ]
  },
  {
   "cell_type": "markdown",
   "id": "30c9fd89",
   "metadata": {},
   "source": [
    "### Positional arguments v.s. keyword arguments\n",
    "\n",
    "There are two types of arguments: positional arguments and keyword arguments (also called “named arguments”).\n",
    "\n",
    "- **Positional arguments** are values that are passed to a function when it is called. They must match in the order in which the parameters were listed during the function definition. Therefore, the order is especially important since the values passed to these functions are assigned to the corresponding parameters based on their position.\n",
    "\n",
    "\n",
    "- **Keyword arguments:** are values that, when passed into a function, are identifiable by specific parameter names. A keyword argument is preceded by a parameter and the assignment operator, `=`. \n",
    "<br/> <br/>*Keyword arguments can be likened to dictionaries in that they map a value to a keyword.* \n",
    "<br/><br/> The idea is to allow caller to specify argument name with values so that caller does not need to remember the order of parameters."
   ]
  },
  {
   "cell_type": "markdown",
   "id": "3f96d3bf",
   "metadata": {},
   "source": [
    "**Task:** Number subtracter function: construct a function that subtract 3 parameters, `a`, `b` and `c`. `c` must have a default value of 0 (if it is not specified, it do nothing."
   ]
  },
  {
   "cell_type": "code",
   "execution_count": null,
   "id": "70a70e7b",
   "metadata": {},
   "outputs": [],
   "source": [
    "# Type the code here:\n",
    "\n"
   ]
  },
  {
   "cell_type": "markdown",
   "id": "6b2f6dd4",
   "metadata": {},
   "source": [
    "**Task:** Show that positions matter if the arguments are positional:"
   ]
  },
  {
   "cell_type": "code",
   "execution_count": null,
   "id": "21d1d2ba",
   "metadata": {},
   "outputs": [],
   "source": [
    "# Type the code here:\n",
    "\n"
   ]
  },
  {
   "cell_type": "markdown",
   "id": "de7c6dc8",
   "metadata": {},
   "source": [
    "**Task:** But they do not if the arguments are keywords:"
   ]
  },
  {
   "cell_type": "code",
   "execution_count": null,
   "id": "e9fdfc91",
   "metadata": {},
   "outputs": [],
   "source": [
    "# Type the code here:\n",
    "\n"
   ]
  },
  {
   "cell_type": "markdown",
   "id": "93ef7b3c",
   "metadata": {},
   "source": [
    "**Important:** keyword arguments do have to come after positional arguments.\n",
    "\n",
    "<br>\n",
    "\n",
    "**Sum up:**\n",
    "\n",
    "- In the case of calling a function containing positional arguments, the order of arguments is important.\n",
    "\n",
    "\n",
    "- In the case of calling a function containing keyword arguments, the order of arguments is not important. They are identified by its keyword.\n",
    "\n",
    "\n",
    "- For both, there should be only one value (argument) for one parameter.\n",
    "\n",
    "\n",
    "- For keyword arguments, the passed keyword name should match exactly with the actual keyword name."
   ]
  },
  {
   "cell_type": "markdown",
   "id": "9b260dba",
   "metadata": {},
   "source": [
    "**Task:** Show an incorrect order for the arguments:"
   ]
  },
  {
   "cell_type": "code",
   "execution_count": null,
   "id": "c1f66b96",
   "metadata": {
    "scrolled": true
   },
   "outputs": [],
   "source": [
    "# Type the code here:\n",
    "\n"
   ]
  },
  {
   "cell_type": "markdown",
   "id": "bc82a8ab",
   "metadata": {},
   "source": [
    "**Task:** Change the default value of `c` when calling the function:"
   ]
  },
  {
   "cell_type": "code",
   "execution_count": null,
   "id": "f93d71d3",
   "metadata": {},
   "outputs": [],
   "source": [
    "# Type the code here:\n",
    "\n"
   ]
  },
  {
   "cell_type": "markdown",
   "id": "c76f7df3",
   "metadata": {},
   "source": [
    "## Passing an iterable as an argument\n",
    "\n",
    "**Task:** Feed a function with an iterable and do something:"
   ]
  },
  {
   "cell_type": "code",
   "execution_count": null,
   "id": "f90a3075",
   "metadata": {},
   "outputs": [],
   "source": [
    "# Type the code here:\n",
    "\n"
   ]
  },
  {
   "cell_type": "markdown",
   "id": "ccccaedc",
   "metadata": {},
   "source": [
    "## Variable length arguments: `*args` and `**kwargs`\n",
    "\n",
    "We can have both normal and keyword variable number of arguments. \n",
    "\n",
    "We can pass a variable number of arguments (for both normal and keyword arguments) to a function using special symbols.\n",
    "\n",
    "This makes the functions much more flexible.\n",
    "\n",
    "**Special symbols used for passing arguments:**\n",
    "\n",
    "$\\qquad$  `*args` :  Non-Keyword Arguments or positional arguments are declared by a name only.\n",
    "\n",
    "$\\qquad$  `**kwargs` :  Keyword Arguments provide a name to the variable as you pass it into the function.\n",
    "\n",
    "<br>\n",
    "\n",
    "* We use the “wildcard” or `*` notation like this – `*args` or `**kwargs` – as our function’s argument when we have doubts about the number of arguments we should pass in a function.\n",
    "\n",
    "\n",
    "* You don't have to use the names args or kwargs, as this is just a convention between programmers. What you do have to use is the single `*` or double `**` asterisk."
   ]
  },
  {
   "cell_type": "markdown",
   "id": "e4c2b6d5",
   "metadata": {},
   "source": [
    "### What is `*args`?\n",
    "\n",
    "The special syntax `*args` is used to pass a variable number of non-keyword arguments to a function, i.e. more arguments than the number of formal arguments that you previously defined.\n",
    "\n",
    "- In the function, we should use the asterisk `*` before the paramenter name.\n",
    "\n",
    "\n",
    "- The arguments are passed as a tuple.\n",
    "\n",
    "\n",
    "- The name of this tuple of arguments is the name of the parameter excluding the asterix `*`. \n",
    "\n",
    "\n",
    "- As I told you, `args` is a naming convention"
   ]
  },
  {
   "cell_type": "markdown",
   "id": "82595c63",
   "metadata": {},
   "source": [
    "**Task:** Let us follow the previous example. Define a function that adds a variable number of numbers:"
   ]
  },
  {
   "cell_type": "code",
   "execution_count": null,
   "id": "d77b138d",
   "metadata": {},
   "outputs": [],
   "source": [
    "# Type the code here:\n",
    "\n"
   ]
  },
  {
   "cell_type": "markdown",
   "id": "5059b339",
   "metadata": {},
   "source": [
    "But now our function does not have a `return`. Are we ok with that?\n",
    "\n",
    "**Task:** Try different ways to call the function: no parameters, one, two, etc."
   ]
  },
  {
   "cell_type": "code",
   "execution_count": null,
   "id": "d8d08d48",
   "metadata": {},
   "outputs": [],
   "source": [
    "# Type the code here:\n",
    "\n"
   ]
  },
  {
   "cell_type": "code",
   "execution_count": null,
   "id": "1c7955ad",
   "metadata": {},
   "outputs": [],
   "source": [
    "adder(4,6,2)"
   ]
  },
  {
   "cell_type": "markdown",
   "id": "31ca4326",
   "metadata": {},
   "source": [
    "**Task:** Define the same function as before but using a default argument:"
   ]
  },
  {
   "cell_type": "code",
   "execution_count": null,
   "id": "bb5b3ddc",
   "metadata": {},
   "outputs": [],
   "source": [
    "# Type the code here:\n",
    "\n"
   ]
  },
  {
   "cell_type": "markdown",
   "id": "35b1a57d",
   "metadata": {},
   "source": [
    "**Task for yourself:** find out what is `__doc__` and how to use it ;)"
   ]
  },
  {
   "cell_type": "markdown",
   "id": "be42d3ae",
   "metadata": {},
   "source": [
    "### Let us acces to the tuple of `*args`"
   ]
  },
  {
   "cell_type": "markdown",
   "id": "b7f7959d",
   "metadata": {},
   "source": [
    "**Task:** Define a function that prints a first default argument, toghether with a variable number of arguments `*args`."
   ]
  },
  {
   "cell_type": "code",
   "execution_count": null,
   "id": "3a34aa94",
   "metadata": {},
   "outputs": [],
   "source": [
    "# Type the code here:\n",
    "\n"
   ]
  },
  {
   "cell_type": "markdown",
   "id": "6c9a8dda",
   "metadata": {},
   "source": [
    "### What is `**kwargs`?\n",
    "\n",
    "The special syntax `**kwargs` is used to pass keyworded, variable-length arguments.\n",
    "\n",
    "- Use the double asterisk `**` before the parameter name.\n",
    "\n",
    "\n",
    "- The keyworded arguments are transformed into a dictionary inside the function.\n",
    "\n",
    "\n",
    "- The names of the keys being the same name chosen for the `**kargs` parameters, excluding the double asterisk `**`.\n",
    "\n",
    "\n",
    "- The values are the values assigned to each argument with the assignment operator `=`."
   ]
  },
  {
   "cell_type": "markdown",
   "id": "0be86a32",
   "metadata": {},
   "source": [
    "**Task:** Define a function that receives a variable amount of data from a person (name, surname, age and country of birth) and prints them on the screen."
   ]
  },
  {
   "cell_type": "code",
   "execution_count": null,
   "id": "3a4c71f4",
   "metadata": {},
   "outputs": [],
   "source": [
    "# Type the code here:\n",
    "\n"
   ]
  },
  {
   "cell_type": "markdown",
   "id": "071f5662",
   "metadata": {},
   "source": [
    "### Using `*args` and `**kwargs` together\n",
    "\n",
    "**Order counts:** When defining a function, the correct order for its parameters is:\n",
    "\n",
    "1. Positional non-default parameters, i.e `(a, b, c)`\n",
    "\n",
    "\n",
    "2. Positional default parameters, i.e `(a='b', r='j')`\n",
    "\n",
    "\n",
    "3. `*args` arguments\n",
    "\n",
    "\n",
    "4. `**kwargs` arguments"
   ]
  },
  {
   "cell_type": "markdown",
   "id": "32f35655",
   "metadata": {},
   "source": [
    "**Task for yourself:** Do you dare to invent an algorithm that uses all these types of arguments? It doesn't have to make sense what it does, as long as it works and does something, that's enough :D"
   ]
  },
  {
   "cell_type": "markdown",
   "id": "15791527",
   "metadata": {},
   "source": [
    "## Pass by reference or pass by value?\n",
    "\n",
    "<br>\n",
    "\n",
    "**NERDY MOMENT!**\n",
    "\n",
    "<br>\n",
    "\n",
    "One important thing to note is that every variable name is a reference. \n",
    "\n",
    "When we pass a variable to a function (called 'parameter passing' in Python –same as 'reference passing' in Java–), a new reference to the object is created.\n",
    "\n",
    "- Confirm this using the Python’s built-in `id()` function. Oh! Not again! :( "
   ]
  },
  {
   "cell_type": "code",
   "execution_count": null,
   "id": "0656a713",
   "metadata": {},
   "outputs": [],
   "source": [
    "def myFun(x):\n",
    "    print(\"Value received:\", x, \"id:\", id(x))\n",
    "\n",
    "x = 12\n",
    "print(\"Value passed:\", x, \"id:\", id(x))\n",
    "myFun(x)"
   ]
  },
  {
   "cell_type": "markdown",
   "id": "4f859b2a",
   "metadata": {},
   "source": [
    "The object `x` inside and outside the function is the same, as you can see by its unique id.\n",
    "\n",
    "If the value of the above variable is changed inside a function, then it will create a different variable with a new id. \n",
    "\n",
    "However, if a mutable list object is modified inside the function, the object will remain the same (same id) and the changes will also be reflected outside the function.\n",
    "\n",
    "If you want changes to the value to be reflected outside the function as well, you must equip the function with a return, and assign the function (i.e. its return) to a variable."
   ]
  },
  {
   "cell_type": "code",
   "execution_count": null,
   "id": "febeee21",
   "metadata": {},
   "outputs": [],
   "source": [
    "def myFun(x, arr, any_return = False):\n",
    "    print(\"Inside function:\")\n",
    "    \n",
    "    # Changing integer will also change the reference to the variable\n",
    "    x += 10\n",
    "    print(\"Value modified\", x, \"Id\", id(x))\n",
    " \n",
    "    # Modifying mutable objects will also be reflected outside the function\n",
    "    arr[0] = 0\n",
    "    print(\"List modified\", arr, \"Id\", id(arr))\n",
    "    \n",
    "    # Print the modified value v.s. return it\n",
    "    if any_return == False:\n",
    "        pass\n",
    "    else:\n",
    "        return x\n",
    "\n",
    "\n",
    "# Driver's code\n",
    "x = 10\n",
    "arr = [1, 2, 3]\n",
    " \n",
    "print(\"Before calling function:\")\n",
    "print(\"Value passed\", x, \"Id\", id(x))\n",
    "print(\"Array passed\", arr, \"Id\", id(arr))\n",
    "print()\n",
    "\n",
    "myFun(x, arr)\n",
    "# If I assign (the return of) my function to a variable, a different variable is created with a new id.\n",
    "#x = myFun(x, arr) \n",
    "\n",
    "print(\"\\nAfter calling function:\")\n",
    "print(\"Value passed\", x, \"Id\", id(x))\n",
    "print(\"Array passed\", arr, \"Id\", id(arr))"
   ]
  },
  {
   "cell_type": "markdown",
   "id": "310f2277",
   "metadata": {},
   "source": [
    "Why is all this useful?"
   ]
  },
  {
   "cell_type": "markdown",
   "id": "f21e298a",
   "metadata": {},
   "source": [
    "## Using mutable objects as default argument values in python\n",
    "\n",
    "Default values of the arguments are evaluated only once when the control reaches the function.\n",
    "\n",
    "After that, the same values (or mutable objects) are referenced in the subsequent function calls.\n",
    "\n",
    "**Task:** Create a function that adds items to a default blank list:"
   ]
  },
  {
   "cell_type": "code",
   "execution_count": null,
   "id": "42a62e15",
   "metadata": {},
   "outputs": [],
   "source": [
    "# If you want to clear the default list, just run the function code again.\n",
    "# Type the code here:\n",
    "\n"
   ]
  },
  {
   "cell_type": "markdown",
   "id": "b99068c4",
   "metadata": {},
   "source": [
    "**Task for you:** Create a function `add_item_to_dictionary` that adds items to a default blank dictionary:"
   ]
  },
  {
   "cell_type": "code",
   "execution_count": null,
   "id": "4c4ee9d7",
   "metadata": {},
   "outputs": [],
   "source": [
    "# If you want to clear the default dictionary, just run the function code again.\n",
    "# Type the code here:\n",
    "\n"
   ]
  },
  {
   "cell_type": "markdown",
   "id": "0eaa1ea0",
   "metadata": {},
   "source": [
    "## Functions with more than one return\n",
    "\n",
    "- The `return` statement is optional and returns the value(s) of the function.\n",
    "\n",
    "\n",
    "- A function can have more than one `return`. \n",
    "\n",
    "\n",
    "- When the first one is executed, the function ends forever (or until called again)"
   ]
  },
  {
   "cell_type": "markdown",
   "id": "bcaf260a",
   "metadata": {},
   "source": [
    "**Task:** Create a function that tells with a boolean output if a word has closed vowels ('i' and 'u')."
   ]
  },
  {
   "cell_type": "code",
   "execution_count": null,
   "id": "fbca4be9",
   "metadata": {},
   "outputs": [],
   "source": [
    "# Type the code here:\n",
    "\n"
   ]
  },
  {
   "cell_type": "markdown",
   "id": "8c5186e2",
   "metadata": {},
   "source": [
    "## Lambda functions\n",
    "\n",
    "Lambda functions are little and anonymous (nameless) functions. They are subject to a more restrictive but more concise syntax than regular Python functions. \n",
    "\n",
    "Simple logical operations are easier to understand. This makes the code more readable.\n",
    "\n",
    "A lambda function can take **any number of arguments**, but can **only** have **one expression**.\n",
    "\n",
    "> **Syntax:**   `lambda `*`arguments`*` : `*`expression`*\n",
    "\n",
    "They are useful when you want a function that will be used only once.\n",
    "\n",
    "The power of lambda is better shown when you use them as an anonymous function inside another function. Lambda functions are frequently used as argument to higher-order functions; a function that takes in one or more functions as arguments or return one or more functions. For example, built-in functions like `filter()`, `map()`, etc. –see below–.\n",
    "\n",
    "You can not write a docstring to explain all the inputs, operations, and outputs as you would in a normal `def` function.\n",
    "\n",
    "**Some documentation:** \n",
    "\n",
    "- https://realpython.com/python-lambda/\n",
    "\n",
    "- https://www.w3schools.com/python/python_lambda.asp\n",
    "\n",
    "- https://www.programiz.com/python-programming/anonymous-function"
   ]
  },
  {
   "cell_type": "markdown",
   "id": "e39f2917",
   "metadata": {},
   "source": [
    "**Task for you:** Add two parameters, x and y, using a lambda function."
   ]
  },
  {
   "cell_type": "code",
   "execution_count": null,
   "id": "c0797511",
   "metadata": {},
   "outputs": [],
   "source": [
    "# Type the code here:\n",
    "\n"
   ]
  },
  {
   "cell_type": "markdown",
   "id": "4dcec348",
   "metadata": {},
   "source": [
    "**Task for you:** Multiply 3 numbers by means of a lambda function."
   ]
  },
  {
   "cell_type": "code",
   "execution_count": null,
   "id": "89f1734e",
   "metadata": {},
   "outputs": [],
   "source": [
    "# Type the code here:\n",
    "\n"
   ]
  },
  {
   "cell_type": "markdown",
   "id": "70313277",
   "metadata": {},
   "source": [
    "**Task for you:** Given the following list of tuples containing subjects and grades ordered by subject, order them by grades.\n",
    "\n",
    "*Hint: the key parameter in the sorted function can help.*"
   ]
  },
  {
   "cell_type": "code",
   "execution_count": null,
   "id": "8cf2a43e",
   "metadata": {},
   "outputs": [],
   "source": [
    "subject_marks = [('Deep Learning', 8.8), ('Machine Learning', 9), ('Maths', 9.7), ('Statistics', 8.2)]"
   ]
  },
  {
   "cell_type": "code",
   "execution_count": null,
   "id": "3901c006",
   "metadata": {},
   "outputs": [],
   "source": [
    "# Type the code here:\n",
    "\n"
   ]
  },
  {
   "cell_type": "markdown",
   "id": "fe507c1a",
   "metadata": {},
   "source": [
    "### Variable length arguments in lambda functions: `*args`\n",
    "\n",
    "Build some examples for lambda functions using `*args`"
   ]
  },
  {
   "cell_type": "markdown",
   "id": "caacdee3",
   "metadata": {},
   "source": [
    "**Task for you:** For example, one that adds a variable number of numbers."
   ]
  },
  {
   "cell_type": "code",
   "execution_count": null,
   "id": "b0f0d1bd",
   "metadata": {},
   "outputs": [],
   "source": [
    "# Type the code here:\n",
    "\n"
   ]
  },
  {
   "cell_type": "markdown",
   "id": "20004c53",
   "metadata": {},
   "source": [
    "**Task for you:** The previous lambda function takes a bunch of numbers and returns their sum. Store this lambda function in a variable and call it passing as argument a list. For this procedure to work you will have to unpack. See the following example:\n",
    "\n",
    "The lambda function defined above takes a bunch of numbers and returns their sum. Now, call it by passing a list as an argument. For this procedure to work, you will need to unpack the list. See the following example:"
   ]
  },
  {
   "cell_type": "code",
   "execution_count": null,
   "id": "6b5a769e",
   "metadata": {},
   "outputs": [],
   "source": [
    "fruits = ['lemon', 'pear', 'watermelon', 'tomato']\n",
    "\n",
    "print(*fruits)"
   ]
  },
  {
   "cell_type": "markdown",
   "id": "0d1678f3",
   "metadata": {},
   "source": [
    "Google the uses of asterisks `*` in python and discuss them.\n",
    "\n",
    "You are now ready to apply the unpacking procedure to feed the lambda function to add numbers, but now passing them as a list. So, construct a list and feed the lambda function!"
   ]
  },
  {
   "cell_type": "code",
   "execution_count": null,
   "id": "c12738b9",
   "metadata": {},
   "outputs": [],
   "source": [
    "# Type the code here:\n",
    "\n"
   ]
  },
  {
   "cell_type": "markdown",
   "id": "fe465a54",
   "metadata": {},
   "source": [
    "And if you now want the mean of the numbers of the list? It is very easy, just divide the lambda function by the total elements of the list. Go ahead and do it!"
   ]
  },
  {
   "cell_type": "code",
   "execution_count": null,
   "id": "224657f0",
   "metadata": {},
   "outputs": [],
   "source": [
    "# Type the code here:\n",
    "\n"
   ]
  },
  {
   "cell_type": "markdown",
   "id": "27399b86",
   "metadata": {},
   "source": [
    "### Variable length arguments in lambda functions: `*kwrgs`\n",
    "\n",
    "Build some examples for lambda functions using `*kwargs`."
   ]
  },
  {
   "cell_type": "code",
   "execution_count": null,
   "id": "244a3715",
   "metadata": {},
   "outputs": [],
   "source": [
    "# Type the code here:\n",
    "\n"
   ]
  },
  {
   "cell_type": "markdown",
   "id": "580e3bd6",
   "metadata": {},
   "source": [
    "**Task for you:** Let's keep things simple. Store a lambda function in a variable called `values_sum` so that when we call the variable `value_sum (one=1, two=2, three=3, four=4)`, it returns the sum of the values."
   ]
  },
  {
   "cell_type": "code",
   "execution_count": null,
   "id": "80a7fc58",
   "metadata": {},
   "outputs": [],
   "source": [
    "# Type the code here:\n",
    "\n"
   ]
  }
 ],
 "metadata": {
  "kernelspec": {
   "display_name": "Python 3 (ipykernel)",
   "language": "python",
   "name": "python3"
  },
  "language_info": {
   "codemirror_mode": {
    "name": "ipython",
    "version": 3
   },
   "file_extension": ".py",
   "mimetype": "text/x-python",
   "name": "python",
   "nbconvert_exporter": "python",
   "pygments_lexer": "ipython3",
   "version": "3.9.12"
  },
  "toc": {
   "base_numbering": 1,
   "nav_menu": {},
   "number_sections": true,
   "sideBar": true,
   "skip_h1_title": true,
   "title_cell": "Table of Contents",
   "title_sidebar": "Contents",
   "toc_cell": false,
   "toc_position": {
    "height": "calc(100% - 180px)",
    "left": "10px",
    "top": "150px",
    "width": "237.656px"
   },
   "toc_section_display": true,
   "toc_window_display": true
  }
 },
 "nbformat": 4,
 "nbformat_minor": 5
}
