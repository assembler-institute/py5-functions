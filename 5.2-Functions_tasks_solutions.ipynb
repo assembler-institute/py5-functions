{
 "cells": [
  {
   "cell_type": "markdown",
   "id": "5bc8653a",
   "metadata": {},
   "source": [
    "# Functions Task Sheet (solutions)"
   ]
  },
  {
   "cell_type": "markdown",
   "id": "eb109a54",
   "metadata": {},
   "source": [
    "<img width=80 src=\"https://media.giphy.com/media/KAq5w47R9rmTuvWOWa/giphy.gif\">\n",
    "\n",
    "<img width=150 src=\"Images/Assembler.png\">"
   ]
  },
  {
   "cell_type": "markdown",
   "id": "4ffc34e1",
   "metadata": {},
   "source": [
    "# Important:\n",
    "\n",
    "- Comment your code explaining what each part does when you consider it.\n",
    "- We are asking about two types of problems. The first type are solved with code cells, and the second with markdown type cells (where the solution must be thought without executing code cells). This will be indicated in each problem.\n",
    "- Always respect the format of the solution and the instructions!"
   ]
  },
  {
   "cell_type": "markdown",
   "id": "66d84f30",
   "metadata": {},
   "source": [
    "# Recommendations:\n",
    "\n",
    "\n",
    "- There are as many ways to solve a problem as there are people in the world. Find yours!\n",
    "- Create as many variables as you want. They cost nothing and are worth it for the sake of clarity.\n",
    "- You can add cells if needed. \n",
    "- Remember that there are two types of cells: code and markdown. Use both. Explanations never hurt.\n",
    "- There are several ways to approach the same problem. Try not to repeat your way of thinking.\n",
    "- If different syntaxes lead to the same result, explore them.\n",
    "- Use internet in a smart way. Don't look at how to solve the problem in its entirety; it is better to learn methods that lead your logical reasoning to the solution.\n",
    "- Once you have a plan to address the problem, try breaking your code into manageable chunks.\n",
    "- Use `print()` and `type()` functions in the middle of your code to understand what your code is actually doing."
   ]
  },
  {
   "cell_type": "markdown",
   "id": "9e2e1a98",
   "metadata": {},
   "source": [
    "***"
   ]
  },
  {
   "cell_type": "markdown",
   "id": "7b8b0491",
   "metadata": {},
   "source": [
    "## Warm up with a lecture\n",
    "\n",
    "- [Python Keywords and Identifiers](https://www.programiz.com/python-programming/keywords-identifier)"
   ]
  },
  {
   "cell_type": "markdown",
   "id": "15c7840a",
   "metadata": {},
   "source": [
    "## Equality function\n",
    "\n",
    "Define the function `equality(n1,n2)` that takes two numbers and returns `True` if they are equal or `False` otherwise."
   ]
  },
  {
   "cell_type": "code",
   "execution_count": 18,
   "id": "c34c4993",
   "metadata": {},
   "outputs": [],
   "source": [
    "# Type the code here:\n",
    "def equality(n1,n2):\n",
    "    return n1 == n2"
   ]
  },
  {
   "cell_type": "code",
   "execution_count": 19,
   "id": "a18f027f",
   "metadata": {},
   "outputs": [
    {
     "data": {
      "text/plain": [
       "False"
      ]
     },
     "execution_count": 19,
     "metadata": {},
     "output_type": "execute_result"
    }
   ],
   "source": [
    "equality(3,2)"
   ]
  },
  {
   "cell_type": "markdown",
   "id": "6371ce65",
   "metadata": {},
   "source": [
    "## Scream loud and repetitively function\n",
    "\n",
    "Create a function that receives a string and an integer, and prints that string in uppercase and with two exclamation marks at the end, as many times as the entered number indicates."
   ]
  },
  {
   "cell_type": "code",
   "execution_count": 15,
   "id": "d7085038",
   "metadata": {},
   "outputs": [],
   "source": [
    "# Type the code here:\n",
    "def scream_loud_and_repetitively(string, number):\n",
    "    print((string.upper()+'!! ') * number)"
   ]
  },
  {
   "cell_type": "code",
   "execution_count": 16,
   "id": "073616ef",
   "metadata": {
    "scrolled": true
   },
   "outputs": [
    {
     "name": "stdout",
     "output_type": "stream",
     "text": [
      "HOLA!! HOLA!! HOLA!! \n"
     ]
    }
   ],
   "source": [
    "scream_loud_and_repetitively('hola',3)"
   ]
  },
  {
   "cell_type": "markdown",
   "id": "765aa649",
   "metadata": {},
   "source": [
    "## Selecting specific entries from a list\n",
    "\n",
    "Do you remember the list of countries that we have used in the '*4.2-Lists_tasks*' notebook? (Problem **7 Countries**)\n",
    "\n",
    "Create a function that selects only countries that start with a specified letter. The program must be case insensitive.\n",
    "\n",
    "If this letter is not given to the function, it should automatically return countries that start with 'A'.\n",
    "\n",
    "The output of the function should be a new list containing the original list, but with a tuple at the beginning of the new list made up of all the countries that start with the chosen letter.\n",
    "\n",
    "**Look at this!** &nbsp;&nbsp; &rarr; &nbsp;&nbsp;  [Use Unpacking to Insert an Element Into the Beginning of a List](https://www.delftstack.com/howto/python/python-insert-into-list/#use-unpacking-to-insert-an-element-into-the-beginning-of-a-list)\n",
    "\n",
    "Do you dare to implement the unpacking operation to add the tuple at the beginning of the new list?"
   ]
  },
  {
   "cell_type": "code",
   "execution_count": 23,
   "id": "f46cc5c5",
   "metadata": {},
   "outputs": [],
   "source": [
    "# Type the code here:\n",
    "countries = [\"Afghanistan\", \"Albania\", \"Algeria\", \"Andorra\", \"Angola\", \"Antigua & Deps\", \"Argentina\", \"Armenia\", \"Australia\", \"Austria\", \"Azerbaijan\", \"Bahamas\", \"Bahrain\", \"Bangladesh\", \"Barbados\", \"Belarus\", \"Belgium\", \"Belize\", \"Benin\", \"Bhutan\", \"Bolivarian Republic of Venezuela\", \"Bolivia\", \"Bosnia Herzegovina\", \"Botswana\", \"Brazil\", \"Brunei\", \"Bulgaria\", \"Burkina\", \"Burundi\", \"Cambodia\", \"Cameroon\", \"Canada\", \"Cape Verde\", \"Chad\", \"Chile\", \"China\", \"Colombia\", \"Comoros\", \"Congo\", \"Costa Rica\", \"Croatia\", \"Cuba\", \"Cyprus\", \"Czech Republic\", \"Denmark\", \"Djibouti\", \"Dominica\", \"Dominican Republic\", \"East Timor\", \"Ecuador\", \"Egypt\", \"El Salvador\", \"Equatorial Guinea\", \"Eritrea\", \"Estonia\", \"Ethiopia\", \"Fiji\", \"Finland\", \"France\", \"Gabon\", \"Gambia\", \"Georgia\", \"Germany\", \"Ghana\", \"Greece\", \"Grenada\", \"Guatemala\", \"Guinea\", \"Guinea-Bissau\", \"Guyana\", \"Haiti\", \"Honduras\", \"Hungary\", \"Iceland\", \"India\", \"Indonesia\", \"Iran\", \"Iraq\", \"Ireland\", \"Israel\", \"Italy\", \"Ivory Coast\", \"Jamaica\", \"japan\", \"Jordan\", \"Kazakhstan\", \"Kenya\", \"Kiribati\", \"Korea North\", \"Korea South\", \"Uganda\", \"Uruguay\", \"Yemen\", \"Zimbabwe\"]"
   ]
  },
  {
   "cell_type": "code",
   "execution_count": 36,
   "id": "97c24ed3",
   "metadata": {},
   "outputs": [],
   "source": [
    "def initials(list_of_strings, initial_letter = 'A'):\n",
    "    selected_countries = []\n",
    "    for string in list_of_strings:\n",
    "        if string[0].upper() == initial_letter.upper():\n",
    "            selected_countries.append(string)\n",
    "            # print(tuple(selected_countries))\n",
    "            # I don't like the comma :(\n",
    "            \n",
    "    new_list_countries = [tuple(selected_countries), *countries]\n",
    "    \n",
    "    return new_list_countries"
   ]
  },
  {
   "cell_type": "code",
   "execution_count": 40,
   "id": "d5943d5d",
   "metadata": {},
   "outputs": [
    {
     "data": {
      "text/plain": [
       "[('Afghanistan',\n",
       "  'Albania',\n",
       "  'Algeria',\n",
       "  'Andorra',\n",
       "  'Angola',\n",
       "  'Antigua & Deps',\n",
       "  'Argentina',\n",
       "  'Armenia',\n",
       "  'Australia',\n",
       "  'Austria',\n",
       "  'Azerbaijan'),\n",
       " 'Afghanistan',\n",
       " 'Albania',\n",
       " 'Algeria',\n",
       " 'Andorra',\n",
       " 'Angola',\n",
       " 'Antigua & Deps',\n",
       " 'Argentina',\n",
       " 'Armenia',\n",
       " 'Australia',\n",
       " 'Austria',\n",
       " 'Azerbaijan',\n",
       " 'Bahamas',\n",
       " 'Bahrain',\n",
       " 'Bangladesh',\n",
       " 'Barbados',\n",
       " 'Belarus',\n",
       " 'Belgium',\n",
       " 'Belize',\n",
       " 'Benin',\n",
       " 'Bhutan',\n",
       " 'Bolivarian Republic of Venezuela',\n",
       " 'Bolivia',\n",
       " 'Bosnia Herzegovina',\n",
       " 'Botswana',\n",
       " 'Brazil',\n",
       " 'Brunei',\n",
       " 'Bulgaria',\n",
       " 'Burkina',\n",
       " 'Burundi',\n",
       " 'Cambodia',\n",
       " 'Cameroon',\n",
       " 'Canada',\n",
       " 'Cape Verde',\n",
       " 'Chad',\n",
       " 'Chile',\n",
       " 'China',\n",
       " 'Colombia',\n",
       " 'Comoros',\n",
       " 'Congo',\n",
       " 'Costa Rica',\n",
       " 'Croatia',\n",
       " 'Cuba',\n",
       " 'Cyprus',\n",
       " 'Czech Republic',\n",
       " 'Denmark',\n",
       " 'Djibouti',\n",
       " 'Dominica',\n",
       " 'Dominican Republic',\n",
       " 'East Timor',\n",
       " 'Ecuador',\n",
       " 'Egypt',\n",
       " 'El Salvador',\n",
       " 'Equatorial Guinea',\n",
       " 'Eritrea',\n",
       " 'Estonia',\n",
       " 'Ethiopia',\n",
       " 'Fiji',\n",
       " 'Finland',\n",
       " 'France',\n",
       " 'Gabon',\n",
       " 'Gambia',\n",
       " 'Georgia',\n",
       " 'Germany',\n",
       " 'Ghana',\n",
       " 'Greece',\n",
       " 'Grenada',\n",
       " 'Guatemala',\n",
       " 'Guinea',\n",
       " 'Guinea-Bissau',\n",
       " 'Guyana',\n",
       " 'Haiti',\n",
       " 'Honduras',\n",
       " 'Hungary',\n",
       " 'Iceland',\n",
       " 'India',\n",
       " 'Indonesia',\n",
       " 'Iran',\n",
       " 'Iraq',\n",
       " 'Ireland',\n",
       " 'Israel',\n",
       " 'Italy',\n",
       " 'Ivory Coast',\n",
       " 'Jamaica',\n",
       " 'japan',\n",
       " 'Jordan',\n",
       " 'Kazakhstan',\n",
       " 'Kenya',\n",
       " 'Kiribati',\n",
       " 'Korea North',\n",
       " 'Korea South',\n",
       " 'Uganda',\n",
       " 'Uruguay',\n",
       " 'Yemen',\n",
       " 'Zimbabwe']"
      ]
     },
     "execution_count": 40,
     "metadata": {},
     "output_type": "execute_result"
    }
   ],
   "source": [
    "initials(countries)"
   ]
  },
  {
   "cell_type": "markdown",
   "id": "a0f13a95",
   "metadata": {},
   "source": [
    "## Which number is bigger?\n",
    "\n",
    "Make a function that takes two numbers and prints the higher one (consider the case where they are equal).\n",
    "\n",
    "Create a full Docstring for your function. Here is some documentation on [docstrings](https://www.programiz.com/python-programming/docstrings)."
   ]
  },
  {
   "cell_type": "code",
   "execution_count": 14,
   "id": "737ca560",
   "metadata": {},
   "outputs": [],
   "source": [
    "# Type the code here:\n",
    "def highest_number(a, b):\n",
    "    '''\n",
    "    Takes two numbers and returns the higher one.\n",
    "    \n",
    "        Parameters:\n",
    "                a : a real mumber (float)\n",
    "                b : another real number (float)\n",
    "                \n",
    "        Returns:\n",
    "            prints the higher between both. \n",
    "            In case they are equal, prints a string with this information.\n",
    "    '''\n",
    "    if a > b:\n",
    "        return a\n",
    "    \n",
    "    elif a == b:\n",
    "        return print('You have entered the same number twice :/')\n",
    "    \n",
    "    else:\n",
    "        return b"
   ]
  },
  {
   "cell_type": "code",
   "execution_count": 15,
   "id": "287a881c",
   "metadata": {},
   "outputs": [
    {
     "data": {
      "text/plain": [
       "51"
      ]
     },
     "execution_count": 15,
     "metadata": {},
     "output_type": "execute_result"
    }
   ],
   "source": [
    "highest_number(50,51)"
   ]
  },
  {
   "cell_type": "code",
   "execution_count": 17,
   "id": "e21e8b0d",
   "metadata": {},
   "outputs": [
    {
     "data": {
      "text/plain": [
       "50"
      ]
     },
     "execution_count": 17,
     "metadata": {},
     "output_type": "execute_result"
    }
   ],
   "source": [
    "highest_number(50,45)"
   ]
  },
  {
   "cell_type": "code",
   "execution_count": 18,
   "id": "5e69207b",
   "metadata": {
    "scrolled": true
   },
   "outputs": [
    {
     "name": "stdout",
     "output_type": "stream",
     "text": [
      "You have entered the same number twice :/\n"
     ]
    }
   ],
   "source": [
    "highest_number(50,50)"
   ]
  },
  {
   "cell_type": "markdown",
   "id": "bfeb9f60",
   "metadata": {},
   "source": [
    "The following cell accesses the docstring of your function:"
   ]
  },
  {
   "cell_type": "code",
   "execution_count": 19,
   "id": "f80687ab",
   "metadata": {},
   "outputs": [
    {
     "name": "stdout",
     "output_type": "stream",
     "text": [
      "\n",
      "    Takes two numbers and returns the higher one.\n",
      "    \n",
      "        Parameters:\n",
      "                a : a real mumber (float)\n",
      "                b : another real number (float)\n",
      "                \n",
      "        Returns:\n",
      "            prints the higher between both. \n",
      "            In case they are equal, prints a string with this information.\n",
      "    \n"
     ]
    }
   ],
   "source": [
    "print(highest_number.__doc__)"
   ]
  },
  {
   "cell_type": "markdown",
   "id": "70210a84",
   "metadata": {},
   "source": [
    "##  Define a function that adds a variable number of numbers, but only if they are odd.\n",
    "\n",
    "Develop a function that receives any N integers and returns the sum only of those that are odd."
   ]
  },
  {
   "cell_type": "code",
   "execution_count": 38,
   "id": "c6288b7e",
   "metadata": {},
   "outputs": [],
   "source": [
    "# Type the code here:\n",
    "def adder(*num):\n",
    "    '''\n",
    "    Takes a variable number of arguments and returns the sum of only those that are odd\n",
    "    '''\n",
    "    sum = 0\n",
    "    \n",
    "    for n in num:\n",
    "        if n % 2 != 0:\n",
    "            sum = sum + n\n",
    "    \n",
    "    return sum"
   ]
  },
  {
   "cell_type": "code",
   "execution_count": 39,
   "id": "49ecd7e7",
   "metadata": {},
   "outputs": [
    {
     "data": {
      "text/plain": [
       "17"
      ]
     },
     "execution_count": 39,
     "metadata": {},
     "output_type": "execute_result"
    }
   ],
   "source": [
    "adder(3,5,6,8,9,12,234)"
   ]
  },
  {
   "cell_type": "markdown",
   "id": "f3724632",
   "metadata": {},
   "source": [
    "## Total amount of seconds\n",
    "\n",
    "**a.** Suppose you are performing an experiment whose time is measured by means of a stopwatch. The format of the recorded time is given in minutes and seconds; e.g. the first measurement records a time of '07:37'. You want to compare the total number of seconds each time the experiment runs. For this case, the function should return '457'. Create an algorithm that performs that task so you can skip the calculations by hand and just drink coffee.\n",
    "\n",
    "**b.** Suppose the experiment has two or more parts that are measured separately. How would you get the total time of two or more runs of the experiment? Define a function that can take an arbitrary number of time measurements (in the form `minutes:seconds`) and return their sum (in seconds)."
   ]
  },
  {
   "cell_type": "code",
   "execution_count": 6,
   "id": "0cb23ce2",
   "metadata": {},
   "outputs": [],
   "source": [
    "# Type the code here:\n",
    "time = '07:37'"
   ]
  },
  {
   "cell_type": "code",
   "execution_count": 2,
   "id": "f64ca424",
   "metadata": {},
   "outputs": [
    {
     "data": {
      "text/plain": [
       "str"
      ]
     },
     "execution_count": 2,
     "metadata": {},
     "output_type": "execute_result"
    }
   ],
   "source": [
    "type(time)"
   ]
  },
  {
   "cell_type": "code",
   "execution_count": 5,
   "id": "a8734d21",
   "metadata": {},
   "outputs": [],
   "source": [
    "def conversion_to_seconds(time_string):\n",
    "    time_list = time_string.split(':')\n",
    "    \n",
    "    minutes = int(time_list[0])\n",
    "    seconds = int(time_list[1])\n",
    "\n",
    "    total_sec = minutes * 60 + seconds\n",
    "\n",
    "    return total_sec"
   ]
  },
  {
   "cell_type": "code",
   "execution_count": 7,
   "id": "c75c5af5",
   "metadata": {},
   "outputs": [
    {
     "data": {
      "text/plain": [
       "457"
      ]
     },
     "execution_count": 7,
     "metadata": {},
     "output_type": "execute_result"
    }
   ],
   "source": [
    "conversion_to_seconds(time)"
   ]
  },
  {
   "cell_type": "code",
   "execution_count": 8,
   "id": "9998e27d",
   "metadata": {},
   "outputs": [
    {
     "data": {
      "text/plain": [
       "620"
      ]
     },
     "execution_count": 8,
     "metadata": {},
     "output_type": "execute_result"
    }
   ],
   "source": [
    "conversion_to_seconds('10:20')"
   ]
  },
  {
   "cell_type": "code",
   "execution_count": 14,
   "id": "2075ca8c",
   "metadata": {},
   "outputs": [],
   "source": [
    "def seconds_adder(*measurements):\n",
    "    accumulative_time = 0\n",
    "    for measurement in measurements:\n",
    "        accumulative_time += conversion_to_seconds(measurement)\n",
    "    \n",
    "    return(accumulative_time)"
   ]
  },
  {
   "cell_type": "code",
   "execution_count": 16,
   "id": "b29bf3d2",
   "metadata": {},
   "outputs": [
    {
     "data": {
      "text/plain": [
       "146"
      ]
     },
     "execution_count": 16,
     "metadata": {},
     "output_type": "execute_result"
    }
   ],
   "source": [
    "seconds_adder('1:01', '0:20', '1:05')"
   ]
  },
  {
   "cell_type": "markdown",
   "id": "84f90a08",
   "metadata": {},
   "source": [
    "## Project Euler\n",
    "\n",
    "If we list all the natural numbers below 10 that are multiples of 3 or 5, we get 3, 5, 6 and 9. The sum of these multiples is 23.\n",
    "\n",
    "Create a program that requests an integer as input. With that number it executes a function that calculates all the multiples of 3 or 5, and prints a tuple with the chosen numbers, all the multiples and their sum, up to the chosen N.\n",
    "\n",
    "**\n",
    "\n",
    "**Check:** If you enter the number 1000, you must obtain as the sum of their multiples 233168."
   ]
  },
  {
   "cell_type": "code",
   "execution_count": 9,
   "id": "c7ce27d5",
   "metadata": {},
   "outputs": [
    {
     "name": "stdout",
     "output_type": "stream",
     "text": [
      "Choose an integer: 1000\n",
      "(1000, 3, 5, 6, 9, 10, 12, 15, 18, 20, 21, 24, 25, 27, 30, 33, 35, 36, 39, 40, 42, 45, 48, 50, 51, 54, 55, 57, 60, 63, 65, 66, 69, 70, 72, 75, 78, 80, 81, 84, 85, 87, 90, 93, 95, 96, 99, 100, 102, 105, 108, 110, 111, 114, 115, 117, 120, 123, 125, 126, 129, 130, 132, 135, 138, 140, 141, 144, 145, 147, 150, 153, 155, 156, 159, 160, 162, 165, 168, 170, 171, 174, 175, 177, 180, 183, 185, 186, 189, 190, 192, 195, 198, 200, 201, 204, 205, 207, 210, 213, 215, 216, 219, 220, 222, 225, 228, 230, 231, 234, 235, 237, 240, 243, 245, 246, 249, 250, 252, 255, 258, 260, 261, 264, 265, 267, 270, 273, 275, 276, 279, 280, 282, 285, 288, 290, 291, 294, 295, 297, 300, 303, 305, 306, 309, 310, 312, 315, 318, 320, 321, 324, 325, 327, 330, 333, 335, 336, 339, 340, 342, 345, 348, 350, 351, 354, 355, 357, 360, 363, 365, 366, 369, 370, 372, 375, 378, 380, 381, 384, 385, 387, 390, 393, 395, 396, 399, 400, 402, 405, 408, 410, 411, 414, 415, 417, 420, 423, 425, 426, 429, 430, 432, 435, 438, 440, 441, 444, 445, 447, 450, 453, 455, 456, 459, 460, 462, 465, 468, 470, 471, 474, 475, 477, 480, 483, 485, 486, 489, 490, 492, 495, 498, 500, 501, 504, 505, 507, 510, 513, 515, 516, 519, 520, 522, 525, 528, 530, 531, 534, 535, 537, 540, 543, 545, 546, 549, 550, 552, 555, 558, 560, 561, 564, 565, 567, 570, 573, 575, 576, 579, 580, 582, 585, 588, 590, 591, 594, 595, 597, 600, 603, 605, 606, 609, 610, 612, 615, 618, 620, 621, 624, 625, 627, 630, 633, 635, 636, 639, 640, 642, 645, 648, 650, 651, 654, 655, 657, 660, 663, 665, 666, 669, 670, 672, 675, 678, 680, 681, 684, 685, 687, 690, 693, 695, 696, 699, 700, 702, 705, 708, 710, 711, 714, 715, 717, 720, 723, 725, 726, 729, 730, 732, 735, 738, 740, 741, 744, 745, 747, 750, 753, 755, 756, 759, 760, 762, 765, 768, 770, 771, 774, 775, 777, 780, 783, 785, 786, 789, 790, 792, 795, 798, 800, 801, 804, 805, 807, 810, 813, 815, 816, 819, 820, 822, 825, 828, 830, 831, 834, 835, 837, 840, 843, 845, 846, 849, 850, 852, 855, 858, 860, 861, 864, 865, 867, 870, 873, 875, 876, 879, 880, 882, 885, 888, 890, 891, 894, 895, 897, 900, 903, 905, 906, 909, 910, 912, 915, 918, 920, 921, 924, 925, 927, 930, 933, 935, 936, 939, 940, 942, 945, 948, 950, 951, 954, 955, 957, 960, 963, 965, 966, 969, 970, 972, 975, 978, 980, 981, 984, 985, 987, 990, 993, 995, 996, 999, 233168)\n"
     ]
    }
   ],
   "source": [
    "# Type the code here:\n",
    "def Euler(N):\n",
    "    total_sum = 0\n",
    "    a = tuple()\n",
    "    a = (*a, N)\n",
    "    for i in range(1, N):\n",
    "        if (i % 3 == 0 or i % 5 == 0):\n",
    "            total_sum = total_sum + i\n",
    "            a = (*a, i)\n",
    "    a = (*a, total_sum)\n",
    "    print(a)\n",
    "\n",
    "number = int(input('Choose an integer: '))\n",
    "Euler(number)"
   ]
  },
  {
   "cell_type": "markdown",
   "id": "70cd425e",
   "metadata": {},
   "source": [
    "This code can be done in one line with list comprehension techniques. Redo this algorithm in one line."
   ]
  },
  {
   "cell_type": "code",
   "execution_count": null,
   "id": "6015104d",
   "metadata": {},
   "outputs": [],
   "source": [
    "# Type the code here:\n",
    "# Simplify with this the code!\n",
    "print(sum(x for x in range(1000) if x % 3 == 0 or x % 5 == 0))"
   ]
  },
  {
   "cell_type": "markdown",
   "id": "922bbc2d",
   "metadata": {},
   "source": [
    "## Sort a list in a certain manner\n",
    "\n",
    "Build a function that sorts the list below based on how close or far the elements are from 100:"
   ]
  },
  {
   "cell_type": "code",
   "execution_count": 1,
   "id": "ac2379cd",
   "metadata": {},
   "outputs": [],
   "source": [
    "list_of_numbers = [102,100, 50, 65, 82, 23, 0, 198, 290, -34, 1, -1]"
   ]
  },
  {
   "cell_type": "code",
   "execution_count": 4,
   "id": "1453d36a",
   "metadata": {},
   "outputs": [
    {
     "name": "stdout",
     "output_type": "stream",
     "text": [
      "[100, 102, 82, 65, 50, 23, 198, 1, -1, -34, 290]\n"
     ]
    }
   ],
   "source": [
    "# Type the code here:\n",
    "def distance_func(n):\n",
    "    return abs(n - 100)\n",
    "\n",
    "list_of_numbers.sort(key = distance_func)\n",
    "print(list_of_numbers)"
   ]
  },
  {
   "cell_type": "markdown",
   "id": "3f844d4c",
   "metadata": {},
   "source": [
    "## Excess of freedom\n",
    "\n",
    "I dare you to find (or invent, whichever you think is faster!) a function that takes other functions as arguments. The program is executed by calling the main function by means of arguments within which one of them calls one or more external functions and thus performs some task of your choosing.\n",
    "\n",
    "**Hint:** Ask yourself the following: why is it useful for a function to call another function via one of its arguments?"
   ]
  },
  {
   "cell_type": "code",
   "execution_count": null,
   "id": "2dd67107",
   "metadata": {},
   "outputs": [],
   "source": [
    "# Type the code here:\n",
    "\n"
   ]
  }
 ],
 "metadata": {
  "kernelspec": {
   "display_name": "Python 3 (ipykernel)",
   "language": "python",
   "name": "python3"
  },
  "language_info": {
   "codemirror_mode": {
    "name": "ipython",
    "version": 3
   },
   "file_extension": ".py",
   "mimetype": "text/x-python",
   "name": "python",
   "nbconvert_exporter": "python",
   "pygments_lexer": "ipython3",
   "version": "3.9.12"
  },
  "toc": {
   "base_numbering": 1,
   "nav_menu": {},
   "number_sections": true,
   "sideBar": true,
   "skip_h1_title": true,
   "title_cell": "Table of Contents",
   "title_sidebar": "Contents",
   "toc_cell": false,
   "toc_position": {
    "height": "calc(100% - 180px)",
    "left": "10px",
    "top": "150px",
    "width": "203.097px"
   },
   "toc_section_display": true,
   "toc_window_display": true
  }
 },
 "nbformat": 4,
 "nbformat_minor": 5
}
